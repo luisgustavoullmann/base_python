{
 "cells": [
  {
   "cell_type": "code",
   "execution_count": 2,
   "metadata": {},
   "outputs": [],
   "source": [
    "# Fontes on-line:\n",
    "# Dados pagos: melhores estruturados e raramente possuem \\\n",
    "# valores faltantes\n",
    "\n",
    "# Gratuitos: valores ausentes (não necessariamente erradas)\n",
    "# não tão precisos ou ricos em comparação com os dados pagos\n",
    "\n",
    "# O montante de dados disponíveis está constantemente mundando"
   ]
  },
  {
   "cell_type": "code",
   "execution_count": 3,
   "metadata": {},
   "outputs": [],
   "source": [
    "# Fontes de Dados Financeiros on-line:\n",
    "# Exemplos APIs: Iex(3), Morningstar(2,3), Alpha vantage(2,3) e Quandl\n",
    "# Fornence dados atualizados - Geralmente JSON\n",
    "# Usar o pandas_datareader para extrair dados\n",
    "\n",
    "# Porque usar .CSV: APIs são propensos a interromper por períodos \\\n",
    "# de tempos desconhecidos.\n",
    "# Uma determinada API pode conter apenas parte dos dados necessários \\\n",
    "# para uma análise financeira adequada\n",
    "\n",
    "# É mais díficil limpar e organizar bem seus dados, \\\n",
    "# do que fazer as análises financeiras\n",
    "\n",
    "# Algumas APIs só se conectam ao Pyhton 2 e outras 3 e outras a ambos\n",
    "# API Yahoo finance é de graça e se conecta a qualquer um \\\n",
    "# Mas nem sempre está disponível.\n",
    "# Google Finance também fornece\n",
    "# Mas não conte com os dois, se adapte.\n",
    "\n",
    "# Os arquivos .CSV foram baixados do Yahoo Finance"
   ]
  }
 ],
 "metadata": {
  "kernelspec": {
   "display_name": "Python 3",
   "language": "python",
   "name": "python3"
  },
  "language_info": {
   "codemirror_mode": {
    "name": "ipython",
    "version": 3
   },
   "file_extension": ".py",
   "mimetype": "text/x-python",
   "name": "python",
   "nbconvert_exporter": "python",
   "pygments_lexer": "ipython3",
   "version": "3.7.6"
  }
 },
 "nbformat": 4,
 "nbformat_minor": 4
}
